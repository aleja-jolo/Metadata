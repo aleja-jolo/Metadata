{
 "cells": [
  {
   "cell_type": "code",
   "execution_count": 1,
   "metadata": {},
   "outputs": [],
   "source": [
    "import pandas as pd\n",
    "import numpy as np\n",
    "import os\n",
    "import datetime\n",
    "from dateutil.parser import parse"
   ]
  },
  {
   "cell_type": "code",
   "execution_count": 2,
   "metadata": {},
   "outputs": [],
   "source": [
    "mpath = os.getcwd()\n",
    "path = mpath+'/DAS output'\n",
    "files = os.listdir(path)"
   ]
  },
  {
   "cell_type": "code",
   "execution_count": 3,
   "metadata": {
    "scrolled": false
   },
   "outputs": [],
   "source": [
    "cols = []\n",
    "df = pd.DataFrame()\n",
    "for f in files:\n",
    "    if 'pivot' not in f:\n",
    "        df1 = pd.read_csv(path+'/'+f)\n",
    "        df = pd.concat([df,df1],axis=0)"
   ]
  },
  {
   "cell_type": "code",
   "execution_count": 4,
   "metadata": {},
   "outputs": [],
   "source": [
    "df.to_csv('MetaPointsRaw.csv')"
   ]
  },
  {
   "cell_type": "code",
   "execution_count": 5,
   "metadata": {},
   "outputs": [
    {
     "name": "stdout",
     "output_type": "stream",
     "text": [
      "8415314\n",
      "8347020\n"
     ]
    }
   ],
   "source": [
    "print(len(df))\n",
    "df = df.drop_duplicates()\n",
    "print(len(df))"
   ]
  },
  {
   "cell_type": "code",
   "execution_count": 6,
   "metadata": {},
   "outputs": [],
   "source": [
    "dates = df['timestamp'].values\n",
    "date = []\n",
    "for d in dates:\n",
    "    date.append(parse(d))\n",
    "df['time']=date"
   ]
  },
  {
   "cell_type": "code",
   "execution_count": 7,
   "metadata": {},
   "outputs": [],
   "source": [
    "df = df.query(\"name!='Module 07 - Status Codes - Max / Min Cell Voltage Location'\")\n",
    "df['core']=df['deviceName'].apply(lambda x: x[0:7])\n",
    "df.loc[:,'first'] = df['name'].apply(lambda x: x.split('-')[0].strip())\n",
    "df['second']=df['first'].apply(lambda x: x.split(' ')[0])"
   ]
  },
  {
   "cell_type": "code",
   "execution_count": 9,
   "metadata": {
    "collapsed": true
   },
   "outputs": [
    {
     "ename": "KeyboardInterrupt",
     "evalue": "",
     "output_type": "error",
     "traceback": [
      "\u001b[0;31m---------------------------------------------------------------------------\u001b[0m",
      "\u001b[0;31mKeyboardInterrupt\u001b[0m                         Traceback (most recent call last)",
      "\u001b[0;32m<ipython-input-9-6db5dc769cc5>\u001b[0m in \u001b[0;36m<module>\u001b[0;34m\u001b[0m\n\u001b[0;32m----> 1\u001b[0;31m \u001b[0mdf\u001b[0m\u001b[0;34m.\u001b[0m\u001b[0mto_csv\u001b[0m\u001b[0;34m(\u001b[0m\u001b[0;34m'MetaPointsRaw.csv'\u001b[0m\u001b[0;34m)\u001b[0m\u001b[0;34m\u001b[0m\u001b[0;34m\u001b[0m\u001b[0m\n\u001b[0m",
      "\u001b[0;32m~/.asdf/installs/python/3.7.7/lib/python3.7/site-packages/pandas/core/generic.py\u001b[0m in \u001b[0;36mto_csv\u001b[0;34m(self, path_or_buf, sep, na_rep, float_format, columns, header, index, index_label, mode, encoding, compression, quoting, quotechar, line_terminator, chunksize, date_format, doublequote, escapechar, decimal)\u001b[0m\n\u001b[1;32m   3202\u001b[0m             \u001b[0mdecimal\u001b[0m\u001b[0;34m=\u001b[0m\u001b[0mdecimal\u001b[0m\u001b[0;34m,\u001b[0m\u001b[0;34m\u001b[0m\u001b[0;34m\u001b[0m\u001b[0m\n\u001b[1;32m   3203\u001b[0m         )\n\u001b[0;32m-> 3204\u001b[0;31m         \u001b[0mformatter\u001b[0m\u001b[0;34m.\u001b[0m\u001b[0msave\u001b[0m\u001b[0;34m(\u001b[0m\u001b[0;34m)\u001b[0m\u001b[0;34m\u001b[0m\u001b[0;34m\u001b[0m\u001b[0m\n\u001b[0m\u001b[1;32m   3205\u001b[0m \u001b[0;34m\u001b[0m\u001b[0m\n\u001b[1;32m   3206\u001b[0m         \u001b[0;32mif\u001b[0m \u001b[0mpath_or_buf\u001b[0m \u001b[0;32mis\u001b[0m \u001b[0;32mNone\u001b[0m\u001b[0;34m:\u001b[0m\u001b[0;34m\u001b[0m\u001b[0;34m\u001b[0m\u001b[0m\n",
      "\u001b[0;32m~/.asdf/installs/python/3.7.7/lib/python3.7/site-packages/pandas/io/formats/csvs.py\u001b[0m in \u001b[0;36msave\u001b[0;34m(self)\u001b[0m\n\u001b[1;32m    202\u001b[0m             )\n\u001b[1;32m    203\u001b[0m \u001b[0;34m\u001b[0m\u001b[0m\n\u001b[0;32m--> 204\u001b[0;31m             \u001b[0mself\u001b[0m\u001b[0;34m.\u001b[0m\u001b[0m_save\u001b[0m\u001b[0;34m(\u001b[0m\u001b[0;34m)\u001b[0m\u001b[0;34m\u001b[0m\u001b[0;34m\u001b[0m\u001b[0m\n\u001b[0m\u001b[1;32m    205\u001b[0m \u001b[0;34m\u001b[0m\u001b[0m\n\u001b[1;32m    206\u001b[0m         \u001b[0;32mfinally\u001b[0m\u001b[0;34m:\u001b[0m\u001b[0;34m\u001b[0m\u001b[0;34m\u001b[0m\u001b[0m\n",
      "\u001b[0;32m~/.asdf/installs/python/3.7.7/lib/python3.7/site-packages/pandas/io/formats/csvs.py\u001b[0m in \u001b[0;36m_save\u001b[0;34m(self)\u001b[0m\n\u001b[1;32m    321\u001b[0m                 \u001b[0;32mbreak\u001b[0m\u001b[0;34m\u001b[0m\u001b[0;34m\u001b[0m\u001b[0m\n\u001b[1;32m    322\u001b[0m \u001b[0;34m\u001b[0m\u001b[0m\n\u001b[0;32m--> 323\u001b[0;31m             \u001b[0mself\u001b[0m\u001b[0;34m.\u001b[0m\u001b[0m_save_chunk\u001b[0m\u001b[0;34m(\u001b[0m\u001b[0mstart_i\u001b[0m\u001b[0;34m,\u001b[0m \u001b[0mend_i\u001b[0m\u001b[0;34m)\u001b[0m\u001b[0;34m\u001b[0m\u001b[0;34m\u001b[0m\u001b[0m\n\u001b[0m\u001b[1;32m    324\u001b[0m \u001b[0;34m\u001b[0m\u001b[0m\n\u001b[1;32m    325\u001b[0m     \u001b[0;32mdef\u001b[0m \u001b[0m_save_chunk\u001b[0m\u001b[0;34m(\u001b[0m\u001b[0mself\u001b[0m\u001b[0;34m,\u001b[0m \u001b[0mstart_i\u001b[0m\u001b[0;34m:\u001b[0m \u001b[0mint\u001b[0m\u001b[0;34m,\u001b[0m \u001b[0mend_i\u001b[0m\u001b[0;34m:\u001b[0m \u001b[0mint\u001b[0m\u001b[0;34m)\u001b[0m \u001b[0;34m->\u001b[0m \u001b[0;32mNone\u001b[0m\u001b[0;34m:\u001b[0m\u001b[0;34m\u001b[0m\u001b[0;34m\u001b[0m\u001b[0m\n",
      "\u001b[0;32m~/.asdf/installs/python/3.7.7/lib/python3.7/site-packages/pandas/io/formats/csvs.py\u001b[0m in \u001b[0;36m_save_chunk\u001b[0;34m(self, start_i, end_i)\u001b[0m\n\u001b[1;32m    336\u001b[0m                 \u001b[0mdecimal\u001b[0m\u001b[0;34m=\u001b[0m\u001b[0mself\u001b[0m\u001b[0;34m.\u001b[0m\u001b[0mdecimal\u001b[0m\u001b[0;34m,\u001b[0m\u001b[0;34m\u001b[0m\u001b[0;34m\u001b[0m\u001b[0m\n\u001b[1;32m    337\u001b[0m                 \u001b[0mdate_format\u001b[0m\u001b[0;34m=\u001b[0m\u001b[0mself\u001b[0m\u001b[0;34m.\u001b[0m\u001b[0mdate_format\u001b[0m\u001b[0;34m,\u001b[0m\u001b[0;34m\u001b[0m\u001b[0;34m\u001b[0m\u001b[0m\n\u001b[0;32m--> 338\u001b[0;31m                 \u001b[0mquoting\u001b[0m\u001b[0;34m=\u001b[0m\u001b[0mself\u001b[0m\u001b[0;34m.\u001b[0m\u001b[0mquoting\u001b[0m\u001b[0;34m,\u001b[0m\u001b[0;34m\u001b[0m\u001b[0;34m\u001b[0m\u001b[0m\n\u001b[0m\u001b[1;32m    339\u001b[0m             )\n\u001b[1;32m    340\u001b[0m \u001b[0;34m\u001b[0m\u001b[0m\n",
      "\u001b[0;32m~/.asdf/installs/python/3.7.7/lib/python3.7/site-packages/pandas/core/internals/blocks.py\u001b[0m in \u001b[0;36mto_native_types\u001b[0;34m(self, slicer, na_rep, date_format, quoting, **kwargs)\u001b[0m\n\u001b[1;32m   2261\u001b[0m             \u001b[0mtz\u001b[0m\u001b[0;34m=\u001b[0m\u001b[0mgetattr\u001b[0m\u001b[0;34m(\u001b[0m\u001b[0mself\u001b[0m\u001b[0;34m.\u001b[0m\u001b[0mvalues\u001b[0m\u001b[0;34m,\u001b[0m \u001b[0;34m\"tz\"\u001b[0m\u001b[0;34m,\u001b[0m \u001b[0;32mNone\u001b[0m\u001b[0;34m)\u001b[0m\u001b[0;34m,\u001b[0m\u001b[0;34m\u001b[0m\u001b[0;34m\u001b[0m\u001b[0m\n\u001b[1;32m   2262\u001b[0m             \u001b[0mformat\u001b[0m\u001b[0;34m=\u001b[0m\u001b[0mfmt\u001b[0m\u001b[0;34m,\u001b[0m\u001b[0;34m\u001b[0m\u001b[0;34m\u001b[0m\u001b[0m\n\u001b[0;32m-> 2263\u001b[0;31m             \u001b[0mna_rep\u001b[0m\u001b[0;34m=\u001b[0m\u001b[0mna_rep\u001b[0m\u001b[0;34m,\u001b[0m\u001b[0;34m\u001b[0m\u001b[0;34m\u001b[0m\u001b[0m\n\u001b[0m\u001b[1;32m   2264\u001b[0m         ).reshape(i8values.shape)\n\u001b[1;32m   2265\u001b[0m         \u001b[0;32mreturn\u001b[0m \u001b[0mnp\u001b[0m\u001b[0;34m.\u001b[0m\u001b[0matleast_2d\u001b[0m\u001b[0;34m(\u001b[0m\u001b[0mresult\u001b[0m\u001b[0;34m)\u001b[0m\u001b[0;34m\u001b[0m\u001b[0;34m\u001b[0m\u001b[0m\n",
      "\u001b[0;32mpandas/_libs/tslib.pyx\u001b[0m in \u001b[0;36mpandas._libs.tslib.format_array_from_datetime\u001b[0;34m()\u001b[0m\n",
      "\u001b[0;32mpandas/_libs/tslibs/timestamps.pyx\u001b[0m in \u001b[0;36mpandas._libs.tslibs.timestamps.Timestamp.isoformat\u001b[0;34m()\u001b[0m\n",
      "\u001b[0;32m~/.asdf/installs/python/3.7.7/lib/python3.7/site-packages/dateutil/tz/tz.py\u001b[0m in \u001b[0;36mutcoffset\u001b[0;34m(self, dt)\u001b[0m\n\u001b[1;32m    152\u001b[0m         \u001b[0mself\u001b[0m\u001b[0;34m.\u001b[0m\u001b[0m_offset\u001b[0m \u001b[0;34m=\u001b[0m \u001b[0mdatetime\u001b[0m\u001b[0;34m.\u001b[0m\u001b[0mtimedelta\u001b[0m\u001b[0;34m(\u001b[0m\u001b[0mseconds\u001b[0m\u001b[0;34m=\u001b[0m\u001b[0m_get_supported_offset\u001b[0m\u001b[0;34m(\u001b[0m\u001b[0moffset\u001b[0m\u001b[0;34m)\u001b[0m\u001b[0;34m)\u001b[0m\u001b[0;34m\u001b[0m\u001b[0;34m\u001b[0m\u001b[0m\n\u001b[1;32m    153\u001b[0m \u001b[0;34m\u001b[0m\u001b[0m\n\u001b[0;32m--> 154\u001b[0;31m     \u001b[0;32mdef\u001b[0m \u001b[0mutcoffset\u001b[0m\u001b[0;34m(\u001b[0m\u001b[0mself\u001b[0m\u001b[0;34m,\u001b[0m \u001b[0mdt\u001b[0m\u001b[0;34m)\u001b[0m\u001b[0;34m:\u001b[0m\u001b[0;34m\u001b[0m\u001b[0;34m\u001b[0m\u001b[0m\n\u001b[0m\u001b[1;32m    155\u001b[0m         \u001b[0;32mreturn\u001b[0m \u001b[0mself\u001b[0m\u001b[0;34m.\u001b[0m\u001b[0m_offset\u001b[0m\u001b[0;34m\u001b[0m\u001b[0;34m\u001b[0m\u001b[0m\n\u001b[1;32m    156\u001b[0m \u001b[0;34m\u001b[0m\u001b[0m\n",
      "\u001b[0;31mKeyboardInterrupt\u001b[0m: "
     ]
    }
   ],
   "source": [
    "df.to_csv('MetaPointsRaw.csv')"
   ]
  },
  {
   "cell_type": "code",
   "execution_count": 10,
   "metadata": {},
   "outputs": [],
   "source": [
    "dfmod = df[df['second']=='Module']\n",
    "dfmod.loc[:,'point']=dfmod['name'].apply(lambda x: x.split('-')[2].strip())\n",
    "dfmod = dfmod.reset_index()\n",
    "dfmod.drop(columns=['index'],inplace=True)\n",
    "dfmod.reset_index(drop=True,inplace=True)"
   ]
  },
  {
   "cell_type": "code",
   "execution_count": 11,
   "metadata": {},
   "outputs": [
    {
     "data": {
      "text/plain": [
       "array([ 7.,  8.,  9., 10., 11., 12., 13., 14., 15., 16., 17.,  0.,  1.,\n",
       "        2.,  3.,  4.,  5.,  6.])"
      ]
     },
     "execution_count": 11,
     "metadata": {},
     "output_type": "execute_result"
    }
   ],
   "source": [
    "dfmod[dfmod['point']=='Rack Number']['value'].unique()"
   ]
  },
  {
   "cell_type": "code",
   "execution_count": 15,
   "metadata": {},
   "outputs": [
    {
     "data": {
      "text/html": [
       "<div>\n",
       "<style scoped>\n",
       "    .dataframe tbody tr th:only-of-type {\n",
       "        vertical-align: middle;\n",
       "    }\n",
       "\n",
       "    .dataframe tbody tr th {\n",
       "        vertical-align: top;\n",
       "    }\n",
       "\n",
       "    .dataframe thead th {\n",
       "        text-align: right;\n",
       "    }\n",
       "</style>\n",
       "<table border=\"1\" class=\"dataframe\">\n",
       "  <thead>\n",
       "    <tr style=\"text-align: right;\">\n",
       "      <th></th>\n",
       "      <th>xid</th>\n",
       "      <th>dataSourceName</th>\n",
       "      <th>deviceName</th>\n",
       "      <th>name</th>\n",
       "      <th>timestamp</th>\n",
       "      <th>value</th>\n",
       "      <th>rendered</th>\n",
       "      <th>time</th>\n",
       "      <th>core</th>\n",
       "      <th>first</th>\n",
       "      <th>second</th>\n",
       "      <th>point</th>\n",
       "    </tr>\n",
       "  </thead>\n",
       "  <tbody>\n",
       "    <tr>\n",
       "      <th>0</th>\n",
       "      <td>BallaratAR_DP_10db3ac3-3742-4998-bfbf-4a7cb6ec...</td>\n",
       "      <td>Ballarat Array</td>\n",
       "      <td>Core 03 Node 01 BMS</td>\n",
       "      <td>Module 01 - Analogs - Average Cell Temperature</td>\n",
       "      <td>2020-05-01T21:00:00.000-04:00</td>\n",
       "      <td>18.0</td>\n",
       "      <td>18.0 °C</td>\n",
       "      <td>2020-05-01 21:00:00-04:00</td>\n",
       "      <td>Core 03</td>\n",
       "      <td>Module 01</td>\n",
       "      <td>Module</td>\n",
       "      <td>Average Cell Temperature</td>\n",
       "    </tr>\n",
       "    <tr>\n",
       "      <th>1</th>\n",
       "      <td>BallaratAR_DP_10db3ac3-3742-4998-bfbf-4a7cb6ec...</td>\n",
       "      <td>Ballarat Array</td>\n",
       "      <td>Core 03 Node 01 BMS</td>\n",
       "      <td>Module 01 - Analogs - Average Cell Temperature</td>\n",
       "      <td>2020-05-01T21:00:06.000-04:00</td>\n",
       "      <td>18.7</td>\n",
       "      <td>18.7 °C</td>\n",
       "      <td>2020-05-01 21:00:06-04:00</td>\n",
       "      <td>Core 03</td>\n",
       "      <td>Module 01</td>\n",
       "      <td>Module</td>\n",
       "      <td>Average Cell Temperature</td>\n",
       "    </tr>\n",
       "    <tr>\n",
       "      <th>2</th>\n",
       "      <td>BallaratAR_DP_10db3ac3-3742-4998-bfbf-4a7cb6ec...</td>\n",
       "      <td>Ballarat Array</td>\n",
       "      <td>Core 03 Node 01 BMS</td>\n",
       "      <td>Module 01 - Analogs - Average Cell Temperature</td>\n",
       "      <td>2020-05-01T21:00:16.000-04:00</td>\n",
       "      <td>18.2</td>\n",
       "      <td>18.2 °C</td>\n",
       "      <td>2020-05-01 21:00:16-04:00</td>\n",
       "      <td>Core 03</td>\n",
       "      <td>Module 01</td>\n",
       "      <td>Module</td>\n",
       "      <td>Average Cell Temperature</td>\n",
       "    </tr>\n",
       "    <tr>\n",
       "      <th>3</th>\n",
       "      <td>BallaratAR_DP_10db3ac3-3742-4998-bfbf-4a7cb6ec...</td>\n",
       "      <td>Ballarat Array</td>\n",
       "      <td>Core 03 Node 01 BMS</td>\n",
       "      <td>Module 01 - Analogs - Average Cell Temperature</td>\n",
       "      <td>2020-05-01T21:00:26.000-04:00</td>\n",
       "      <td>19.0</td>\n",
       "      <td>19.0 °C</td>\n",
       "      <td>2020-05-01 21:00:26-04:00</td>\n",
       "      <td>Core 03</td>\n",
       "      <td>Module 01</td>\n",
       "      <td>Module</td>\n",
       "      <td>Average Cell Temperature</td>\n",
       "    </tr>\n",
       "    <tr>\n",
       "      <th>4</th>\n",
       "      <td>BallaratAR_DP_10db3ac3-3742-4998-bfbf-4a7cb6ec...</td>\n",
       "      <td>Ballarat Array</td>\n",
       "      <td>Core 03 Node 01 BMS</td>\n",
       "      <td>Module 01 - Analogs - Average Cell Temperature</td>\n",
       "      <td>2020-05-01T21:00:36.000-04:00</td>\n",
       "      <td>18.2</td>\n",
       "      <td>18.2 °C</td>\n",
       "      <td>2020-05-01 21:00:36-04:00</td>\n",
       "      <td>Core 03</td>\n",
       "      <td>Module 01</td>\n",
       "      <td>Module</td>\n",
       "      <td>Average Cell Temperature</td>\n",
       "    </tr>\n",
       "  </tbody>\n",
       "</table>\n",
       "</div>"
      ],
      "text/plain": [
       "                                                 xid  dataSourceName  \\\n",
       "0  BallaratAR_DP_10db3ac3-3742-4998-bfbf-4a7cb6ec...  Ballarat Array   \n",
       "1  BallaratAR_DP_10db3ac3-3742-4998-bfbf-4a7cb6ec...  Ballarat Array   \n",
       "2  BallaratAR_DP_10db3ac3-3742-4998-bfbf-4a7cb6ec...  Ballarat Array   \n",
       "3  BallaratAR_DP_10db3ac3-3742-4998-bfbf-4a7cb6ec...  Ballarat Array   \n",
       "4  BallaratAR_DP_10db3ac3-3742-4998-bfbf-4a7cb6ec...  Ballarat Array   \n",
       "\n",
       "            deviceName                                            name  \\\n",
       "0  Core 03 Node 01 BMS  Module 01 - Analogs - Average Cell Temperature   \n",
       "1  Core 03 Node 01 BMS  Module 01 - Analogs - Average Cell Temperature   \n",
       "2  Core 03 Node 01 BMS  Module 01 - Analogs - Average Cell Temperature   \n",
       "3  Core 03 Node 01 BMS  Module 01 - Analogs - Average Cell Temperature   \n",
       "4  Core 03 Node 01 BMS  Module 01 - Analogs - Average Cell Temperature   \n",
       "\n",
       "                       timestamp  value rendered                      time  \\\n",
       "0  2020-05-01T21:00:00.000-04:00   18.0  18.0 °C 2020-05-01 21:00:00-04:00   \n",
       "1  2020-05-01T21:00:06.000-04:00   18.7  18.7 °C 2020-05-01 21:00:06-04:00   \n",
       "2  2020-05-01T21:00:16.000-04:00   18.2  18.2 °C 2020-05-01 21:00:16-04:00   \n",
       "3  2020-05-01T21:00:26.000-04:00   19.0  19.0 °C 2020-05-01 21:00:26-04:00   \n",
       "4  2020-05-01T21:00:36.000-04:00   18.2  18.2 °C 2020-05-01 21:00:36-04:00   \n",
       "\n",
       "      core      first  second                     point  \n",
       "0  Core 03  Module 01  Module  Average Cell Temperature  \n",
       "1  Core 03  Module 01  Module  Average Cell Temperature  \n",
       "2  Core 03  Module 01  Module  Average Cell Temperature  \n",
       "3  Core 03  Module 01  Module  Average Cell Temperature  \n",
       "4  Core 03  Module 01  Module  Average Cell Temperature  "
      ]
     },
     "execution_count": 15,
     "metadata": {},
     "output_type": "execute_result"
    }
   ],
   "source": [
    "dfmod.head()"
   ]
  },
  {
   "cell_type": "code",
   "execution_count": 40,
   "metadata": {},
   "outputs": [],
   "source": [
    "dfmod1 = dfmod[['time','core','first','point','value']]\n",
    "dfmod1.set_index(['time','core','first','point'],append=True,inplace=True)\n",
    "df_mod = dfmod1.unstack(-1)\n",
    "df_mod.columns = df_mod.columns.droplevel()\n",
    "df_mod.reset_index(inplace=True)"
   ]
  },
  {
   "cell_type": "code",
   "execution_count": 57,
   "metadata": {},
   "outputs": [
    {
     "name": "stdout",
     "output_type": "stream",
     "text": [
      "2912503\n"
     ]
    }
   ],
   "source": [
    "df_mods = dfmod.pivot_table(index=['time','core','first'],columns='point',values='value').reset_index()\n",
    "print(len(df_mods))"
   ]
  },
  {
   "cell_type": "code",
   "execution_count": 42,
   "metadata": {},
   "outputs": [
    {
     "data": {
      "text/html": [
       "<div>\n",
       "<style scoped>\n",
       "    .dataframe tbody tr th:only-of-type {\n",
       "        vertical-align: middle;\n",
       "    }\n",
       "\n",
       "    .dataframe tbody tr th {\n",
       "        vertical-align: top;\n",
       "    }\n",
       "\n",
       "    .dataframe thead th {\n",
       "        text-align: right;\n",
       "    }\n",
       "</style>\n",
       "<table border=\"1\" class=\"dataframe\">\n",
       "  <thead>\n",
       "    <tr style=\"text-align: right;\">\n",
       "      <th>point</th>\n",
       "      <th>level_0</th>\n",
       "      <th>time</th>\n",
       "      <th>core</th>\n",
       "      <th>first</th>\n",
       "      <th>Average Cell Temperature</th>\n",
       "      <th>Max Cell Temperature</th>\n",
       "      <th>Min Cell Temperature</th>\n",
       "      <th>Rack Number</th>\n",
       "    </tr>\n",
       "  </thead>\n",
       "  <tbody>\n",
       "    <tr>\n",
       "      <th>0</th>\n",
       "      <td>0</td>\n",
       "      <td>2020-05-01 21:00:00-04:00</td>\n",
       "      <td>Core 03</td>\n",
       "      <td>Module 01</td>\n",
       "      <td>18.0</td>\n",
       "      <td>NaN</td>\n",
       "      <td>NaN</td>\n",
       "      <td>NaN</td>\n",
       "    </tr>\n",
       "    <tr>\n",
       "      <th>1</th>\n",
       "      <td>1</td>\n",
       "      <td>2020-05-01 21:00:06-04:00</td>\n",
       "      <td>Core 03</td>\n",
       "      <td>Module 01</td>\n",
       "      <td>18.7</td>\n",
       "      <td>NaN</td>\n",
       "      <td>NaN</td>\n",
       "      <td>NaN</td>\n",
       "    </tr>\n",
       "    <tr>\n",
       "      <th>2</th>\n",
       "      <td>2</td>\n",
       "      <td>2020-05-01 21:00:16-04:00</td>\n",
       "      <td>Core 03</td>\n",
       "      <td>Module 01</td>\n",
       "      <td>18.2</td>\n",
       "      <td>NaN</td>\n",
       "      <td>NaN</td>\n",
       "      <td>NaN</td>\n",
       "    </tr>\n",
       "    <tr>\n",
       "      <th>3</th>\n",
       "      <td>3</td>\n",
       "      <td>2020-05-01 21:00:26-04:00</td>\n",
       "      <td>Core 03</td>\n",
       "      <td>Module 01</td>\n",
       "      <td>19.0</td>\n",
       "      <td>NaN</td>\n",
       "      <td>NaN</td>\n",
       "      <td>NaN</td>\n",
       "    </tr>\n",
       "    <tr>\n",
       "      <th>4</th>\n",
       "      <td>4</td>\n",
       "      <td>2020-05-01 21:00:36-04:00</td>\n",
       "      <td>Core 03</td>\n",
       "      <td>Module 01</td>\n",
       "      <td>18.2</td>\n",
       "      <td>NaN</td>\n",
       "      <td>NaN</td>\n",
       "      <td>NaN</td>\n",
       "    </tr>\n",
       "  </tbody>\n",
       "</table>\n",
       "</div>"
      ],
      "text/plain": [
       "point  level_0                      time     core      first  \\\n",
       "0            0 2020-05-01 21:00:00-04:00  Core 03  Module 01   \n",
       "1            1 2020-05-01 21:00:06-04:00  Core 03  Module 01   \n",
       "2            2 2020-05-01 21:00:16-04:00  Core 03  Module 01   \n",
       "3            3 2020-05-01 21:00:26-04:00  Core 03  Module 01   \n",
       "4            4 2020-05-01 21:00:36-04:00  Core 03  Module 01   \n",
       "\n",
       "point  Average Cell Temperature  Max Cell Temperature  Min Cell Temperature  \\\n",
       "0                          18.0                   NaN                   NaN   \n",
       "1                          18.7                   NaN                   NaN   \n",
       "2                          18.2                   NaN                   NaN   \n",
       "3                          19.0                   NaN                   NaN   \n",
       "4                          18.2                   NaN                   NaN   \n",
       "\n",
       "point  Rack Number  \n",
       "0              NaN  \n",
       "1              NaN  \n",
       "2              NaN  \n",
       "3              NaN  \n",
       "4              NaN  "
      ]
     },
     "execution_count": 42,
     "metadata": {},
     "output_type": "execute_result"
    }
   ],
   "source": [
    "df_mod.head()"
   ]
  },
  {
   "cell_type": "code",
   "execution_count": 43,
   "metadata": {},
   "outputs": [],
   "source": [
    "df_mod.loc[:,'module'] = df_mod['first'].apply(lambda x: int(x[-2:]))\n",
    "df_mod.drop(columns=['first','level_0'],inplace=True)"
   ]
  },
  {
   "cell_type": "code",
   "execution_count": 49,
   "metadata": {},
   "outputs": [
    {
     "data": {
      "text/html": [
       "<div>\n",
       "<style scoped>\n",
       "    .dataframe tbody tr th:only-of-type {\n",
       "        vertical-align: middle;\n",
       "    }\n",
       "\n",
       "    .dataframe tbody tr th {\n",
       "        vertical-align: top;\n",
       "    }\n",
       "\n",
       "    .dataframe thead th {\n",
       "        text-align: right;\n",
       "    }\n",
       "</style>\n",
       "<table border=\"1\" class=\"dataframe\">\n",
       "  <thead>\n",
       "    <tr style=\"text-align: right;\">\n",
       "      <th>point</th>\n",
       "      <th>Time</th>\n",
       "      <th>Core</th>\n",
       "      <th>Rack Number</th>\n",
       "      <th>Module</th>\n",
       "      <th>Average Cell Temperature</th>\n",
       "      <th>Max Cell Temperature</th>\n",
       "      <th>Min Cell Temperature</th>\n",
       "    </tr>\n",
       "  </thead>\n",
       "  <tbody>\n",
       "    <tr>\n",
       "      <th>0</th>\n",
       "      <td>2020-05-01 21:00:00-04:00</td>\n",
       "      <td>Core 03</td>\n",
       "      <td>NaN</td>\n",
       "      <td>1</td>\n",
       "      <td>18.0</td>\n",
       "      <td>NaN</td>\n",
       "      <td>NaN</td>\n",
       "    </tr>\n",
       "    <tr>\n",
       "      <th>1</th>\n",
       "      <td>2020-05-01 21:00:06-04:00</td>\n",
       "      <td>Core 03</td>\n",
       "      <td>NaN</td>\n",
       "      <td>1</td>\n",
       "      <td>18.7</td>\n",
       "      <td>NaN</td>\n",
       "      <td>NaN</td>\n",
       "    </tr>\n",
       "    <tr>\n",
       "      <th>2</th>\n",
       "      <td>2020-05-01 21:00:16-04:00</td>\n",
       "      <td>Core 03</td>\n",
       "      <td>NaN</td>\n",
       "      <td>1</td>\n",
       "      <td>18.2</td>\n",
       "      <td>NaN</td>\n",
       "      <td>NaN</td>\n",
       "    </tr>\n",
       "    <tr>\n",
       "      <th>3</th>\n",
       "      <td>2020-05-01 21:00:26-04:00</td>\n",
       "      <td>Core 03</td>\n",
       "      <td>NaN</td>\n",
       "      <td>1</td>\n",
       "      <td>19.0</td>\n",
       "      <td>NaN</td>\n",
       "      <td>NaN</td>\n",
       "    </tr>\n",
       "    <tr>\n",
       "      <th>4</th>\n",
       "      <td>2020-05-01 21:00:36-04:00</td>\n",
       "      <td>Core 03</td>\n",
       "      <td>NaN</td>\n",
       "      <td>1</td>\n",
       "      <td>18.2</td>\n",
       "      <td>NaN</td>\n",
       "      <td>NaN</td>\n",
       "    </tr>\n",
       "    <tr>\n",
       "      <th>...</th>\n",
       "      <td>...</td>\n",
       "      <td>...</td>\n",
       "      <td>...</td>\n",
       "      <td>...</td>\n",
       "      <td>...</td>\n",
       "      <td>...</td>\n",
       "      <td>...</td>\n",
       "    </tr>\n",
       "    <tr>\n",
       "      <th>7960641</th>\n",
       "      <td>2020-05-03 11:59:24-04:00</td>\n",
       "      <td>Core 04</td>\n",
       "      <td>NaN</td>\n",
       "      <td>1</td>\n",
       "      <td>17.2</td>\n",
       "      <td>NaN</td>\n",
       "      <td>NaN</td>\n",
       "    </tr>\n",
       "    <tr>\n",
       "      <th>7960642</th>\n",
       "      <td>2020-05-03 11:59:30-04:00</td>\n",
       "      <td>Core 04</td>\n",
       "      <td>NaN</td>\n",
       "      <td>1</td>\n",
       "      <td>17.5</td>\n",
       "      <td>NaN</td>\n",
       "      <td>NaN</td>\n",
       "    </tr>\n",
       "    <tr>\n",
       "      <th>7960643</th>\n",
       "      <td>2020-05-03 11:59:34-04:00</td>\n",
       "      <td>Core 04</td>\n",
       "      <td>NaN</td>\n",
       "      <td>1</td>\n",
       "      <td>18.2</td>\n",
       "      <td>NaN</td>\n",
       "      <td>NaN</td>\n",
       "    </tr>\n",
       "    <tr>\n",
       "      <th>7960644</th>\n",
       "      <td>2020-05-03 11:59:40-04:00</td>\n",
       "      <td>Core 04</td>\n",
       "      <td>NaN</td>\n",
       "      <td>1</td>\n",
       "      <td>18.5</td>\n",
       "      <td>NaN</td>\n",
       "      <td>NaN</td>\n",
       "    </tr>\n",
       "    <tr>\n",
       "      <th>7960645</th>\n",
       "      <td>2020-05-03 11:59:44-04:00</td>\n",
       "      <td>Core 04</td>\n",
       "      <td>NaN</td>\n",
       "      <td>1</td>\n",
       "      <td>18.0</td>\n",
       "      <td>NaN</td>\n",
       "      <td>NaN</td>\n",
       "    </tr>\n",
       "  </tbody>\n",
       "</table>\n",
       "<p>7960646 rows × 7 columns</p>\n",
       "</div>"
      ],
      "text/plain": [
       "point                        Time     Core  Rack Number  Module  \\\n",
       "0       2020-05-01 21:00:00-04:00  Core 03          NaN       1   \n",
       "1       2020-05-01 21:00:06-04:00  Core 03          NaN       1   \n",
       "2       2020-05-01 21:00:16-04:00  Core 03          NaN       1   \n",
       "3       2020-05-01 21:00:26-04:00  Core 03          NaN       1   \n",
       "4       2020-05-01 21:00:36-04:00  Core 03          NaN       1   \n",
       "...                           ...      ...          ...     ...   \n",
       "7960641 2020-05-03 11:59:24-04:00  Core 04          NaN       1   \n",
       "7960642 2020-05-03 11:59:30-04:00  Core 04          NaN       1   \n",
       "7960643 2020-05-03 11:59:34-04:00  Core 04          NaN       1   \n",
       "7960644 2020-05-03 11:59:40-04:00  Core 04          NaN       1   \n",
       "7960645 2020-05-03 11:59:44-04:00  Core 04          NaN       1   \n",
       "\n",
       "point    Average Cell Temperature  Max Cell Temperature  Min Cell Temperature  \n",
       "0                            18.0                   NaN                   NaN  \n",
       "1                            18.7                   NaN                   NaN  \n",
       "2                            18.2                   NaN                   NaN  \n",
       "3                            19.0                   NaN                   NaN  \n",
       "4                            18.2                   NaN                   NaN  \n",
       "...                           ...                   ...                   ...  \n",
       "7960641                      17.2                   NaN                   NaN  \n",
       "7960642                      17.5                   NaN                   NaN  \n",
       "7960643                      18.2                   NaN                   NaN  \n",
       "7960644                      18.5                   NaN                   NaN  \n",
       "7960645                      18.0                   NaN                   NaN  \n",
       "\n",
       "[7960646 rows x 7 columns]"
      ]
     },
     "execution_count": 49,
     "metadata": {},
     "output_type": "execute_result"
    }
   ],
   "source": [
    "cols = df_mod.columns.tolist()\n",
    "col = cols[0:2]+cols[-2:]+cols[2:-2]\n",
    "df_mod = df_mod[col]\n",
    "df_mod.rename(columns={'time':'Time','core':'Core','module':'Module'},inplace=True)\n",
    "df_mod"
   ]
  },
  {
   "cell_type": "code",
   "execution_count": 75,
   "metadata": {},
   "outputs": [],
   "source": [
    "df_rack = df_mod[['Time','Core','Module','Rack Number']][df_mod['Rack Number'].isnull()==False]\n",
    "df_mean = df_mod[['Time','Core','Module','Average Cell Temperature']][df_mod['Average Cell Temperature'].isnull()==False]\n",
    "df_max = df_mod[['Time','Core','Module','Max Cell Temperature']][df_mod['Max Cell Temperature'].isnull()==False]\n",
    "df_min = df_mod[['Time','Core','Module','Min Cell Temperature']][df_mod['Min Cell Temperature'].isnull()==False]"
   ]
  },
  {
   "cell_type": "code",
   "execution_count": 84,
   "metadata": {},
   "outputs": [
    {
     "data": {
      "text/plain": [
       "4707985"
      ]
     },
     "execution_count": 84,
     "metadata": {},
     "output_type": "execute_result"
    }
   ],
   "source": [
    "len(df_rack)+len(df_mean)#+len(df_max)+len(df_min)"
   ]
  },
  {
   "cell_type": "code",
   "execution_count": 80,
   "metadata": {},
   "outputs": [
    {
     "name": "stdout",
     "output_type": "stream",
     "text": [
      "2760578 1947407 1681207 1571454\n"
     ]
    }
   ],
   "source": [
    "print(len(df_rack),len(df_mean),len(df_max),len(df_min))"
   ]
  },
  {
   "cell_type": "code",
   "execution_count": 93,
   "metadata": {},
   "outputs": [],
   "source": [
    "df_mod_temps = pd.merge(df_rack,df_mean,on=['Time','Core','Module'],how='outer')\n",
    "df_mod_temps = pd.merge(df_mod_temps,df_max,on=['Time','Core','Module'],how='outer')\n",
    "df_mod_temps = pd.merge(df_mod_temps,df_min,on=['Time','Core','Module'],how='outer')"
   ]
  },
  {
   "cell_type": "code",
   "execution_count": 105,
   "metadata": {},
   "outputs": [],
   "source": [
    "df_mod_temps.dropna(subset=['Rack Number'],inplace=True)"
   ]
  },
  {
   "cell_type": "code",
   "execution_count": 106,
   "metadata": {},
   "outputs": [
    {
     "data": {
      "text/plain": [
       "array([ 7.,  8.,  9., 10., 11., 12., 13., 14., 15., 16., 17.,  0.,  1.,\n",
       "        2.,  3.,  4.,  5.,  6.])"
      ]
     },
     "execution_count": 106,
     "metadata": {},
     "output_type": "execute_result"
    }
   ],
   "source": [
    "df_mod_temps['Rack Number'].unique()"
   ]
  },
  {
   "cell_type": "code",
   "execution_count": 107,
   "metadata": {},
   "outputs": [
    {
     "name": "stderr",
     "output_type": "stream",
     "text": [
      "/Users/alejandrajolodosky/.asdf/installs/python/3.7.7/lib/python3.7/site-packages/pandas/core/indexing.py:845: SettingWithCopyWarning: \n",
      "A value is trying to be set on a copy of a slice from a DataFrame.\n",
      "Try using .loc[row_indexer,col_indexer] = value instead\n",
      "\n",
      "See the caveats in the documentation: https://pandas.pydata.org/pandas-docs/stable/user_guide/indexing.html#returning-a-view-versus-a-copy\n",
      "  self.obj[key] = _infer_fill_value(value)\n",
      "/Users/alejandrajolodosky/.asdf/installs/python/3.7.7/lib/python3.7/site-packages/pandas/core/indexing.py:966: SettingWithCopyWarning: \n",
      "A value is trying to be set on a copy of a slice from a DataFrame.\n",
      "Try using .loc[row_indexer,col_indexer] = value instead\n",
      "\n",
      "See the caveats in the documentation: https://pandas.pydata.org/pandas-docs/stable/user_guide/indexing.html#returning-a-view-versus-a-copy\n",
      "  self.obj[item] = s\n"
     ]
    },
    {
     "data": {
      "text/html": [
       "<div>\n",
       "<style scoped>\n",
       "    .dataframe tbody tr th:only-of-type {\n",
       "        vertical-align: middle;\n",
       "    }\n",
       "\n",
       "    .dataframe tbody tr th {\n",
       "        vertical-align: top;\n",
       "    }\n",
       "\n",
       "    .dataframe thead th {\n",
       "        text-align: right;\n",
       "    }\n",
       "</style>\n",
       "<table border=\"1\" class=\"dataframe\">\n",
       "  <thead>\n",
       "    <tr style=\"text-align: right;\">\n",
       "      <th></th>\n",
       "      <th>time</th>\n",
       "      <th>core</th>\n",
       "      <th>sensor</th>\n",
       "      <th>value</th>\n",
       "    </tr>\n",
       "  </thead>\n",
       "  <tbody>\n",
       "    <tr>\n",
       "      <th>0</th>\n",
       "      <td>2020-05-02 12:00:00-04:00</td>\n",
       "      <td>Core 03</td>\n",
       "      <td>Humidity_1</td>\n",
       "      <td>35.8</td>\n",
       "    </tr>\n",
       "    <tr>\n",
       "      <th>1</th>\n",
       "      <td>2020-05-02 12:00:02-04:00</td>\n",
       "      <td>Core 03</td>\n",
       "      <td>Humidity_1</td>\n",
       "      <td>35.9</td>\n",
       "    </tr>\n",
       "    <tr>\n",
       "      <th>2</th>\n",
       "      <td>2020-05-02 12:00:06-04:00</td>\n",
       "      <td>Core 03</td>\n",
       "      <td>Humidity_1</td>\n",
       "      <td>35.8</td>\n",
       "    </tr>\n",
       "    <tr>\n",
       "      <th>3</th>\n",
       "      <td>2020-05-02 12:00:08-04:00</td>\n",
       "      <td>Core 03</td>\n",
       "      <td>Humidity_1</td>\n",
       "      <td>35.9</td>\n",
       "    </tr>\n",
       "    <tr>\n",
       "      <th>4</th>\n",
       "      <td>2020-05-02 12:00:10-04:00</td>\n",
       "      <td>Core 03</td>\n",
       "      <td>Humidity_1</td>\n",
       "      <td>35.8</td>\n",
       "    </tr>\n",
       "    <tr>\n",
       "      <th>...</th>\n",
       "      <td>...</td>\n",
       "      <td>...</td>\n",
       "      <td>...</td>\n",
       "      <td>...</td>\n",
       "    </tr>\n",
       "    <tr>\n",
       "      <th>15052</th>\n",
       "      <td>2020-05-03 11:55:34.092000-04:00</td>\n",
       "      <td>Core 03</td>\n",
       "      <td>Temperature_8</td>\n",
       "      <td>21.0</td>\n",
       "    </tr>\n",
       "    <tr>\n",
       "      <th>15053</th>\n",
       "      <td>2020-05-03 11:56:36.141000-04:00</td>\n",
       "      <td>Core 03</td>\n",
       "      <td>Temperature_8</td>\n",
       "      <td>21.0</td>\n",
       "    </tr>\n",
       "    <tr>\n",
       "      <th>15054</th>\n",
       "      <td>2020-05-03 11:57:36.141000-04:00</td>\n",
       "      <td>Core 03</td>\n",
       "      <td>Temperature_8</td>\n",
       "      <td>21.0</td>\n",
       "    </tr>\n",
       "    <tr>\n",
       "      <th>15055</th>\n",
       "      <td>2020-05-03 11:58:36.142000-04:00</td>\n",
       "      <td>Core 03</td>\n",
       "      <td>Temperature_8</td>\n",
       "      <td>21.0</td>\n",
       "    </tr>\n",
       "    <tr>\n",
       "      <th>15056</th>\n",
       "      <td>2020-05-03 11:59:36.142000-04:00</td>\n",
       "      <td>Core 03</td>\n",
       "      <td>Temperature_8</td>\n",
       "      <td>21.0</td>\n",
       "    </tr>\n",
       "  </tbody>\n",
       "</table>\n",
       "<p>182159 rows × 4 columns</p>\n",
       "</div>"
      ],
      "text/plain": [
       "                                  time     core         sensor  value\n",
       "0            2020-05-02 12:00:00-04:00  Core 03     Humidity_1   35.8\n",
       "1            2020-05-02 12:00:02-04:00  Core 03     Humidity_1   35.9\n",
       "2            2020-05-02 12:00:06-04:00  Core 03     Humidity_1   35.8\n",
       "3            2020-05-02 12:00:08-04:00  Core 03     Humidity_1   35.9\n",
       "4            2020-05-02 12:00:10-04:00  Core 03     Humidity_1   35.8\n",
       "...                                ...      ...            ...    ...\n",
       "15052 2020-05-03 11:55:34.092000-04:00  Core 03  Temperature_8   21.0\n",
       "15053 2020-05-03 11:56:36.141000-04:00  Core 03  Temperature_8   21.0\n",
       "15054 2020-05-03 11:57:36.141000-04:00  Core 03  Temperature_8   21.0\n",
       "15055 2020-05-03 11:58:36.142000-04:00  Core 03  Temperature_8   21.0\n",
       "15056 2020-05-03 11:59:36.142000-04:00  Core 03  Temperature_8   21.0\n",
       "\n",
       "[182159 rows x 4 columns]"
      ]
     },
     "execution_count": 107,
     "metadata": {},
     "output_type": "execute_result"
    }
   ],
   "source": [
    "dfcurr = df[df['second']=='Current']\n",
    "dfcurr.loc[:,'sensor'] = dfcurr['first'].apply(lambda x: x.split(' ')[1]+'_'+x.split(' ')[3])\n",
    "df_curr = dfcurr[['time','core','sensor','value']]\n",
    "df_curr"
   ]
  },
  {
   "cell_type": "code",
   "execution_count": 113,
   "metadata": {},
   "outputs": [
    {
     "name": "stderr",
     "output_type": "stream",
     "text": [
      "/Users/alejandrajolodosky/.asdf/installs/python/3.7.7/lib/python3.7/site-packages/ipykernel_launcher.py:2: SettingWithCopyWarning: \n",
      "A value is trying to be set on a copy of a slice from a DataFrame.\n",
      "Try using .loc[row_indexer,col_indexer] = value instead\n",
      "\n",
      "See the caveats in the documentation: https://pandas.pydata.org/pandas-docs/stable/user_guide/indexing.html#returning-a-view-versus-a-copy\n",
      "  \n",
      "/Users/alejandrajolodosky/.asdf/installs/python/3.7.7/lib/python3.7/site-packages/ipykernel_launcher.py:3: SettingWithCopyWarning: \n",
      "A value is trying to be set on a copy of a slice from a DataFrame.\n",
      "Try using .loc[row_indexer,col_indexer] = value instead\n",
      "\n",
      "See the caveats in the documentation: https://pandas.pydata.org/pandas-docs/stable/user_guide/indexing.html#returning-a-view-versus-a-copy\n",
      "  This is separate from the ipykernel package so we can avoid doing imports until\n"
     ]
    }
   ],
   "source": [
    "dfhvac = df[df['second']=='HVAC']\n",
    "dfhvac['HVAC']=dfhvac['first'].apply(lambda x: x.split(' ')[2])\n",
    "dfhvac['point']=dfhvac['first'].apply(lambda x: x.split(' ')[3]+'_'+x.split(' ')[4])\n",
    "#df_hvac = dfhvac.pivot_table(index=['time','core','HVAC'],columns='point',values='value').reset_index()"
   ]
  },
  {
   "cell_type": "code",
   "execution_count": 114,
   "metadata": {},
   "outputs": [],
   "source": [
    "dfhvac.reset_index(drop=True,inplace=True)\n",
    "dfhvac1=dfhvac[['time','core','HVAC','point','value']]\n",
    "dfhvac1.set_index(['time','core','HVAC','point'],append=True,inplace=True)\n",
    "df_hvac = dfhvac1.unstack(-1)\n",
    "df_hvac.columns = df_hvac.columns.droplevel()\n",
    "df_hvac.reset_index(inplace=True)"
   ]
  },
  {
   "cell_type": "code",
   "execution_count": 117,
   "metadata": {},
   "outputs": [],
   "source": [
    "df_hvac.drop(columns=['level_0'],inplace=True)\n",
    "df_hvac.rename(columns={'time':'Time','core':'Core'},inplace=True)"
   ]
  },
  {
   "cell_type": "code",
   "execution_count": 120,
   "metadata": {},
   "outputs": [],
   "source": [
    "df_cool1 = df_hvac[['Time','Core','HVAC','Cooling_1']][df_hvac['Cooling_1'].isnull()==False]\n",
    "df_cool2 = df_hvac[['Time','Core','HVAC','Cooling_2']][df_hvac['Cooling_2'].isnull()==False]\n",
    "df_hum = df_hvac[['Time','Core','HVAC','Current_Humidity']][df_hvac['Current_Humidity'].isnull()==False]\n",
    "df_temp = df_hvac[['Time','Core','HVAC','Current_Temperature']][df_hvac['Current_Temperature'].isnull()==False]"
   ]
  },
  {
   "cell_type": "code",
   "execution_count": 122,
   "metadata": {},
   "outputs": [],
   "source": [
    "df_HVAC = pd.merge(df_cool1,df_cool2,on=['Time','Core','HVAC'],how='outer')\n",
    "df_HVAC = pd.merge(df_HVAC,df_hum,on=['Time','Core','HVAC'],how='outer')\n",
    "df_HVAC = pd.merge(df_HVAC,df_temp,on=['Time','Core','HVAC'],how='outer')"
   ]
  },
  {
   "cell_type": "code",
   "execution_count": 125,
   "metadata": {},
   "outputs": [
    {
     "name": "stdout",
     "output_type": "stream",
     "text": [
      "<class 'pandas.core.frame.DataFrame'>\n",
      "Int64Index: 150465 entries, 0 to 150464\n",
      "Data columns (total 7 columns):\n",
      " #   Column               Non-Null Count   Dtype                                 \n",
      "---  ------               --------------   -----                                 \n",
      " 0   Time                 150465 non-null  datetime64[ns, tzoffset(None, -14400)]\n",
      " 1   Core                 150465 non-null  object                                \n",
      " 2   HVAC                 150465 non-null  object                                \n",
      " 3   Cooling_1            8660 non-null    float64                               \n",
      " 4   Cooling_2            8660 non-null    float64                               \n",
      " 5   Current_Humidity     46874 non-null   float64                               \n",
      " 6   Current_Temperature  103874 non-null  float64                               \n",
      "dtypes: datetime64[ns, tzoffset(None, -14400)](1), float64(4), object(2)\n",
      "memory usage: 9.2+ MB\n"
     ]
    }
   ],
   "source": [
    "#df_hvac.rename(columns={'time':'Time','core':'Core'},inplace=True)\n",
    "df_HVAC.info()"
   ]
  },
  {
   "cell_type": "code",
   "execution_count": 88,
   "metadata": {},
   "outputs": [],
   "source": [
    "df_mod.to_pickle('Module_Temps.pkl')\n",
    "df_curr.to_pickle('Sensors.pkl')\n",
    "df_hvac.to_pickle('HVAC.pkl')"
   ]
  },
  {
   "cell_type": "code",
   "execution_count": null,
   "metadata": {},
   "outputs": [],
   "source": []
  }
 ],
 "metadata": {
  "kernelspec": {
   "display_name": "Python 3",
   "language": "python",
   "name": "python3"
  },
  "language_info": {
   "codemirror_mode": {
    "name": "ipython",
    "version": 3
   },
   "file_extension": ".py",
   "mimetype": "text/x-python",
   "name": "python",
   "nbconvert_exporter": "python",
   "pygments_lexer": "ipython3",
   "version": "3.7.7"
  }
 },
 "nbformat": 4,
 "nbformat_minor": 4
}
